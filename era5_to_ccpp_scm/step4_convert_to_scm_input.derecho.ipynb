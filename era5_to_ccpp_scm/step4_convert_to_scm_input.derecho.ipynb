{
 "cells": [
  {
   "cell_type": "code",
   "execution_count": 1,
   "id": "b445ad11",
   "metadata": {},
   "outputs": [],
   "source": [
    "%matplotlib inline\n",
    "import xarray as xr\n",
    "import numpy as np\n",
    "import metpy.calc as mpcalc\n",
    "from metpy.units import units\n",
    "import matplotlib.pyplot as plt\n",
    "import pandas as pd"
   ]
  },
  {
   "cell_type": "code",
   "execution_count": 2,
   "id": "0789c683",
   "metadata": {},
   "outputs": [],
   "source": [
    "def transpose_da(da, dim_list):\n",
    "    if len(dim_list) == 1:\n",
    "        return da\n",
    "    if len(dim_list) == 2:\n",
    "        return da.transpose(dim_list[0],dim_list[1])\n",
    "    if len(dim_list) == 3:\n",
    "        return da.transpose(dim_list[0],dim_list[1],dim_list[2])\n",
    "    if len(dim_list) == 4:\n",
    "        return da.transpose(dim_list[0],dim_list[1],dim_list[2],dim_list[3])\n",
    "    if len(dim_list) == 5:\n",
    "        return da.transpose(dim_list[0],dim_list[1],dim_list[2],dim_list[3],dim_list[4])"
   ]
  },
  {
   "cell_type": "code",
   "execution_count": 5,
   "id": "324ee8f2",
   "metadata": {},
   "outputs": [],
   "source": [
    "def format_da_to_target(da_replace, da_temp_var, data_type):\n",
    "    if data_type == 'forcing':\n",
    "        dim_replace = []\n",
    "        var_coords_dic = {}\n",
    "        for dim in da_temp_var.dims:\n",
    "            dim_replace.append(coord_name_dic_forcing[dim])\n",
    "            if dim in coords_dic.keys():\n",
    "                var_coords_dic.update({dim:coords_dic[dim]})\n",
    "        da_replace_t = transpose_da(da_replace,dim_replace)\n",
    "        da_replace_n = xr.DataArray(da_replace_t.values, dims=da_temp_var.dims,\n",
    "                                    coords = var_coords_dic)\n",
    "        da_replace_n.attrs = da_temp_var.attrs\n",
    "    if data_type == 'scalar':\n",
    "        if len(np.shape(da_replace.values)) == 0:\n",
    "            value = np.float64(da_replace.values)\n",
    "        else:\n",
    "            value = np.float64(da_replace.values[0])\n",
    "        \n",
    "        da_replace_n = xr.DataArray(value)\n",
    "        da_replace_n.attrs = da_temp_var.attrs\n",
    "    if data_type == 'initial':\n",
    "        dims_tuple = ('t0',)\n",
    "        var_coords_dic = {'t0':coords_dic['t0']}\n",
    "        da_init = da_replace.isel(time=0)\n",
    "        if len(da_init.dims)>0:\n",
    "            for dim in da_init.dims:\n",
    "                if dim in coord_name_dic_reverse.keys():\n",
    "                    dim_target = coord_name_dic_reverse[dim]\n",
    "                    dims_tuple += (dim_target,)\n",
    "                    if dim_target in coords_dic.keys():\n",
    "                        var_coords_dic.update({dim:coords_dic[dim_target]})\n",
    "        da_replace_n = xr.DataArray([da_init.values], dims=dims_tuple,\n",
    "                                  coords = var_coords_dic)\n",
    "        da_replace_n.attrs = da_temp_var.attrs\n",
    "\n",
    "    return da_replace_n"
   ]
  },
  {
   "cell_type": "code",
   "execution_count": 6,
   "id": "39540233",
   "metadata": {},
   "outputs": [],
   "source": [
    "temp_file = \"/glade/work/yifanc/code/scm_v7/ccpp-scm/scm/data/processed_case_input/gabls3_noahmp_SCM_driver.nc\"\n",
    "static_file = \"/glade/work/yifanc/proj/wpo2023/static/ameriflux/ameriflux_static_fields.C1152.US-Whs.nc\"\n",
    "forcing_file = \"/glade/derecho/scratch/yifanc/wpo2023/SCM/processed/US-Whs/processed_era5.201902.US-Whs.derecho.nc\""
   ]
  },
  {
   "cell_type": "code",
   "execution_count": null,
   "id": "317058ee",
   "metadata": {},
   "outputs": [],
   "source": [
    "excel_file = \"ERA5_variable.SCM.input.xlsx\"\n",
    "excel_file = pd.ExcelFile(excel_file)\n",
    "mapping_df = excel_file.parse(sheet_name=\"var_mapping\")"
   ]
  },
  {
   "cell_type": "code",
   "execution_count": 8,
   "id": "f5fd0289",
   "metadata": {},
   "outputs": [],
   "source": [
    "mapping_df.set_index(\"scm_var_name\", inplace=True)"
   ]
  },
  {
   "cell_type": "code",
   "execution_count": 9,
   "id": "b4bcebc9",
   "metadata": {},
   "outputs": [],
   "source": [
    "ds_temp = xr.open_dataset(temp_file)\n",
    "ds_static = xr.open_dataset(static_file)\n",
    "ds_forcing = xr.open_dataset(forcing_file)"
   ]
  },
  {
   "cell_type": "code",
   "execution_count": 10,
   "id": "3337e8ce",
   "metadata": {},
   "outputs": [],
   "source": [
    "time_dims = ds_forcing[\"time\"]\n",
    "t0 = time_dims[0].values"
   ]
  },
  {
   "cell_type": "code",
   "execution_count": 11,
   "id": "a6b03d75",
   "metadata": {},
   "outputs": [
    {
     "name": "stdout",
     "output_type": "stream",
     "text": [
      "t0\n",
      "time\n",
      "lev\n"
     ]
    }
   ],
   "source": [
    "coord_list = []\n",
    "for coord in ds_temp.coords:\n",
    "    print(coord)\n",
    "    coord_list.append(coord)"
   ]
  },
  {
   "cell_type": "code",
   "execution_count": 14,
   "id": "90bc89bc-7d3d-4107-95ee-ed1a55ff7581",
   "metadata": {},
   "outputs": [],
   "source": [
    "out = xr.Dataset()"
   ]
  },
  {
   "cell_type": "code",
   "execution_count": 15,
   "id": "3a15818b-cd84-4558-951e-9c0752936998",
   "metadata": {},
   "outputs": [],
   "source": [
    "lev_coords = xr.DataArray(ds_forcing.levels.values,dims=['lev'],\n",
    "                          coords={'lev':ds_forcing.levels.values})\n",
    "lev_coords.attrs = ds_temp.lev.attrs"
   ]
  },
  {
   "cell_type": "code",
   "execution_count": 16,
   "id": "3138d826-70bc-4f1c-bba5-3b91725145f3",
   "metadata": {},
   "outputs": [],
   "source": [
    "t0_coords = xr.DataArray(ds_forcing.time.values[[0]],dims=['t0'],\n",
    "                         coords={'t0':ds_forcing.time.values[[0]]})\n",
    "t0_coords.attrs = ds_temp.t0.attrs\n",
    "time_coords = xr.DataArray(ds_forcing.time.values,dims=['time'],\n",
    "                         coords={'time':ds_forcing.time.values})\n",
    "time_coords.attrs = ds_temp.time.attrs\n"
   ]
  },
  {
   "cell_type": "code",
   "execution_count": 18,
   "id": "eb90a9b4-ab8e-409e-be63-e7fa1df0ec00",
   "metadata": {},
   "outputs": [],
   "source": [
    "out.coords['lev'] = lev_coords\n",
    "out.coords['t0'] = t0_coords\n",
    "out.coords['time'] = time_coords"
   ]
  },
  {
   "cell_type": "code",
   "execution_count": 19,
   "id": "9ccaf84a-49ae-4de2-be9b-f284341984aa",
   "metadata": {},
   "outputs": [],
   "source": [
    "coords_dic = {'lev':lev_coords,\n",
    "              't0':t0_coords,\n",
    "              'time':time_coords}"
   ]
  },
  {
   "cell_type": "code",
   "execution_count": 21,
   "id": "3cbf83ed",
   "metadata": {},
   "outputs": [],
   "source": [
    "data_dic = {'forcing':ds_forcing,\n",
    "            'static':ds_static}"
   ]
  },
  {
   "cell_type": "code",
   "execution_count": 22,
   "id": "a8fc21f9",
   "metadata": {},
   "outputs": [],
   "source": [
    "coord_name_dic_forcing = {'lev':'levels',\n",
    "                         'lat':'latitude',\n",
    "                         'lon':'longitude',\n",
    "                         'time':'time',\n",
    "                         't0':'t0',\n",
    "                         'nsoil':'nsoil'}\n",
    "coord_name_dic_reverse = {'levels':'lev',\n",
    "                         'latitude':'lat',\n",
    "                         'longitude':'lon',\n",
    "                         'time':'time',\n",
    "                         't0':'t0',\n",
    "                         'nsoil':'nsoil'}"
   ]
  },
  {
   "cell_type": "code",
   "execution_count": null,
   "id": "e38a4a06-1386-4616-865f-039fe371e064",
   "metadata": {},
   "outputs": [],
   "source": [
    "nudging_var_list = ['ua','va','ta','qv']\n",
    "nudging_invar_dic = {'ta':'T_nudge',\n",
    "                     'qv':'qt_nudge',\n",
    "                     'ua':'u_nudge',\n",
    "                     'va':'v_nudge'}\n",
    "nudging_res_lev = 50000\n",
    "nudging_timestep = 2 * 3600 "
   ]
  },
  {
   "cell_type": "code",
   "execution_count": null,
   "id": "5d0a657f",
   "metadata": {},
   "outputs": [
    {
     "name": "stdout",
     "output_type": "stream",
     "text": [
      "soil_depth scalar\n",
      "lon scalar\n",
      "forcing lon longitude scalar\n",
      "lat scalar\n",
      "forcing lat latitude scalar\n",
      "slmsk scalar\n",
      "vegtyp scalar\n",
      "static vegtyp vegetation_category scalar\n",
      "soiltyp scalar\n",
      "static soiltyp soil_category scalar\n",
      "slopetyp scalar\n",
      "static slopetyp slope_category scalar\n",
      "tsfco scalar\n",
      "vegfrac scalar\n",
      "shdmin scalar\n",
      "shdmax scalar\n",
      "canopy scalar\n",
      "hice scalar\n",
      "fice scalar\n",
      "tisfc scalar\n",
      "snowd scalar\n",
      "snoalb scalar\n",
      "tg3 scalar\n",
      "uustar scalar\n",
      "alvsf scalar\n",
      "alnsf scalar\n",
      "alvwf scalar\n",
      "alnwf scalar\n",
      "facsf scalar\n",
      "facwf scalar\n",
      "weasd scalar\n",
      "sncovr scalar\n",
      "tsfcl scalar\n",
      "zorl scalar\n",
      "zorll scalar\n",
      "zorli scalar\n",
      "zorlw scalar\n",
      "area scalar\n",
      "thetal initial\n",
      "forcing thetal thetal initial\n",
      "qt initial\n",
      "forcing qt qt_nudge initial\n",
      "ua initial\n",
      "forcing ua u_nudge initial\n",
      "va initial\n",
      "forcing va v_nudge initial\n",
      "pa initial\n",
      "forcing pa p initial\n",
      "zh initial\n",
      "forcing zh geopotential_height initial\n",
      "ps initial\n",
      "forcing ps p_surf initial\n",
      "ql initial\n",
      "qi initial\n",
      "tke initial\n",
      "o3 initial\n",
      "stc initial\n",
      "forcing stc soil_temperature initial\n",
      "smc initial\n",
      "forcing smc soil_moisture initial\n",
      "slc initial\n",
      "forcing slc soil_moisture initial\n",
      "ps_forc forcing\n",
      "forcing ps_forc p_surf forcing\n",
      "pa_forc forcing\n",
      "forcing pa_forc p forcing\n",
      "zh_forc forcing\n",
      "forcing zh_forc geopotential_height forcing\n",
      "tnthetal_adv forcing\n",
      "forcing tnthetal_adv v_advec_thetal forcing\n",
      "tnqt_adv forcing\n",
      "forcing tnqt_adv v_advec_qt forcing\n",
      "wap forcing\n",
      "forcing wap v_advec_p forcing\n",
      "ug forcing\n",
      "forcing ug u_g forcing\n",
      "vg forcing\n",
      "forcing vg v_g forcing\n"
     ]
    }
   ],
   "source": [
    "for var in ds_temp.variables:\n",
    "    if var not in coord_list:\n",
    "        data_source = mapping_df.loc[var, \"data_source\"]\n",
    "        vname_source = mapping_df.loc[var, \"data_source_var_name\"]\n",
    "        data_type = mapping_df.loc[var, \"data_type\"]\n",
    "        print(var,data_type)\n",
    "        da_temp_var = ds_temp[var]\n",
    "        if isinstance(data_source, str):\n",
    "            print(data_source,var, vname_source, data_type)\n",
    "            ds_source = data_dic[data_source]\n",
    "            da_replace = ds_source[vname_source]\n",
    "            da_replace_n = format_da_to_target(da_replace,da_temp_var,data_type)\n",
    "            out[var] = da_replace_n\n",
    "        elif 't0' in da_temp_var.dims:\n",
    "            if 'lev' in da_temp_var.dims:\n",
    "                da_temp_var = xr.DataArray(np.full([1,len(lev_coords)],0),\n",
    "                                           dims=['t0','lev'],\n",
    "                                           coords={'t0':coords_dic['t0'],\n",
    "                                                   'lev':coords_dic['lev']})\n",
    "                out[var] = da_temp_var\n",
    "        else:\n",
    "            da_temp_var_no_change = ds_temp[var]\n",
    "            out[var] = da_temp_var_no_change"
   ]
  },
  {
   "cell_type": "code",
   "execution_count": 25,
   "id": "8ff824ee-1c01-48d8-a438-837a60f62cd9",
   "metadata": {},
   "outputs": [],
   "source": [
    "out.attrs = ds_temp.attrs"
   ]
  },
  {
   "cell_type": "code",
   "execution_count": 26,
   "id": "e017ee54-eb34-43da-98d3-e968a749fcb0",
   "metadata": {},
   "outputs": [],
   "source": [
    "out.attrs['start_date'] = f\"{str(time_coords.values[0])[0:10]} {str(time_coords.values[0])[11:19]}\"\n",
    "out.attrs['end_date'] = f\"{str(time_coords.values[-1])[0:10]} {str(time_coords.values[-1])[11:19]}\""
   ]
  },
  {
   "cell_type": "code",
   "execution_count": 27,
   "id": "b328a198-b01d-40bd-a940-6b2705d4e3e9",
   "metadata": {},
   "outputs": [],
   "source": [
    "out_lev = out.sortby('lev', ascending=False)"
   ]
  },
  {
   "cell_type": "code",
   "execution_count": 28,
   "id": "c8665e6d-f7fc-4938-a13e-d51cb9150ee0",
   "metadata": {},
   "outputs": [],
   "source": [
    "# era5_noahmp_exp_SCM_driver.test10.nc\n",
    "out_lev = out_lev.rename(name_dict={\"thetal\":\"theta\",\n",
    "                          \"tnthetal_adv\":\"tntheta_adv\"})\n",
    "out_lev.attrs['adv_theta'] = np.int32(1)\n",
    "out_lev.attrs['adv_thetal'] = np.int32(0)"
   ]
  },
  {
   "cell_type": "code",
   "execution_count": 29,
   "id": "71a81911-094f-4471-b290-d7ded67e46ec",
   "metadata": {},
   "outputs": [],
   "source": [
    "# era5_noahmp_exp_SCM_driver.test15.nc\n",
    "da_temp_var = ds_temp['pa_forc']\n",
    "data_type = 'forcing'\n",
    "for nvar in nudging_var_list:\n",
    "    invar = nudging_invar_dic[nvar]\n",
    "    da = ds_forcing[invar]\n",
    "    da_nudging = format_da_to_target(da,da_temp_var,data_type)\n",
    "    da_nudging.attrs = da.attrs\n",
    "    out_lev[f\"{nvar}_nud\"] = da_nudging\n",
    "    out_lev.attrs[f\"pa_nudging_{nvar}\"] = nudging_res_lev\n",
    "    out_lev.attrs[f\"nudging_{nvar}\"] = nudging_timestep"
   ]
  },
  {
   "cell_type": "code",
   "execution_count": 59,
   "id": "bef82c3d-1048-4652-8bb1-857439694fdf",
   "metadata": {},
   "outputs": [],
   "source": [
    "out_lev.to_netcdf(\"/glade/derecho/scratch/yifanc/wpo2023/SCM/processed/US-Whs/era5_noahmp_exp_SCM_driver.nc\")"
   ]
  }
 ],
 "metadata": {
  "kernelspec": {
   "display_name": "nco",
   "language": "python",
   "name": "nco"
  },
  "language_info": {
   "codemirror_mode": {
    "name": "ipython",
    "version": 3
   },
   "file_extension": ".py",
   "mimetype": "text/x-python",
   "name": "python",
   "nbconvert_exporter": "python",
   "pygments_lexer": "ipython3",
   "version": "3.12.11"
  }
 },
 "nbformat": 4,
 "nbformat_minor": 5
}
